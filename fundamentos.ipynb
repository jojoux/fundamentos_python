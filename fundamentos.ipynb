{
 "cells": [
  {
   "cell_type": "code",
   "execution_count": 1,
   "metadata": {},
   "outputs": [
    {
     "name": "stdout",
     "output_type": "stream",
     "text": [
      "hola\n"
     ]
    }
   ],
   "source": [
    "print(\"hola\")"
   ]
  },
  {
   "cell_type": "code",
   "execution_count": 3,
   "metadata": {},
   "outputs": [],
   "source": [
    "name=\"fiorella\""
   ]
  },
  {
   "cell_type": "code",
   "execution_count": 4,
   "metadata": {},
   "outputs": [
    {
     "data": {
      "text/plain": [
       "'fiorella'"
      ]
     },
     "execution_count": 4,
     "metadata": {},
     "output_type": "execute_result"
    }
   ],
   "source": [
    "name"
   ]
  },
  {
   "cell_type": "code",
   "execution_count": 1,
   "metadata": {},
   "outputs": [],
   "source": [
    "last_name= \"valentina\""
   ]
  },
  {
   "cell_type": "code",
   "execution_count": 2,
   "metadata": {},
   "outputs": [
    {
     "data": {
      "text/plain": [
       "'valentina'"
      ]
     },
     "execution_count": 2,
     "metadata": {},
     "output_type": "execute_result"
    }
   ],
   "source": [
    "last_name"
   ]
  },
  {
   "cell_type": "code",
   "execution_count": 5,
   "metadata": {},
   "outputs": [],
   "source": [
    "# asignacion de variables\n",
    "number_1 = 22\n",
    "number_2 = 23\n",
    "\n",
    "# operaciones\n",
    "sum = number_1 + number_2\n",
    "substract = number_1 - number_2\n",
    "multi = number_1 * number_2\n",
    "div = number_1 / number_2\n"
   ]
  },
  {
   "cell_type": "code",
   "execution_count": 6,
   "metadata": {},
   "outputs": [
    {
     "name": "stdout",
     "output_type": "stream",
     "text": [
      "45\n",
      "-1\n",
      "506\n",
      "0.9565217391304348\n"
     ]
    }
   ],
   "source": [
    "# resultados\n",
    "print(sum)\n",
    "print(substract)\n",
    "print(multi)\n",
    "print(div)"
   ]
  },
  {
   "cell_type": "code",
   "execution_count": 8,
   "metadata": {},
   "outputs": [
    {
     "name": "stdout",
     "output_type": "stream",
     "text": [
      "resultado de la suma es: 45\n",
      "resultado de la resta es: -1\n",
      "resultado de la resta es: 506\n",
      "resultado de la resta es: 0.9565217391304348\n"
     ]
    }
   ],
   "source": [
    "# resultados\n",
    "print(\"resultado de la suma es:\", sum)\n",
    "print(f\"resultado de la resta es: {substract}\")\n",
    "print(f\"resultado de la resta es: {multi}\")\n",
    "print(f\"resultado de la resta es: {div}\")"
   ]
  },
  {
   "cell_type": "code",
   "execution_count": 9,
   "metadata": {},
   "outputs": [
    {
     "name": "stdout",
     "output_type": "stream",
     "text": [
      "<class 'str'>\n",
      "<class 'int'>\n",
      "<class 'float'>\n"
     ]
    }
   ],
   "source": [
    "# tipos de datoos en phyton\n",
    "print(type(last_name))\n",
    "print(type(number_1))\n",
    "print(type(div))"
   ]
  },
  {
   "cell_type": "code",
   "execution_count": 14,
   "metadata": {},
   "outputs": [
    {
     "name": "stdout",
     "output_type": "stream",
     "text": [
      "resultado de la suma es: 21.0\n",
      "resultado de la resta es: -1.0\n",
      "resultado de la resta es: 110.0\n",
      "resultado de la resta es: 0.9090909090909091\n"
     ]
    }
   ],
   "source": [
    "# ingreso de datos por teclado\n",
    "# asignacion de variables\n",
    "number_1 = input(\"ingrese number_1: \")\n",
    "number_1= float(number_1)\n",
    "\n",
    "number_2 = input(\"ingrese number_2: \")\n",
    "number_2 = float(number_2)\n",
    "\n",
    "# operaciones\n",
    "sum = number_1 + number_2\n",
    "substract = number_1 - number_2\n",
    "multi = number_1 * number_2\n",
    "div = number_1 / number_2\n",
    "\n",
    "# resultados\n",
    "print(\"resultado de la suma es:\", sum)\n",
    "print(f\"resultado de la resta es: {substract}\")\n",
    "print(f\"resultado de la resta es: {multi}\")\n",
    "print(f\"resultado de la resta es: {div}\")"
   ]
  },
  {
   "cell_type": "code",
   "execution_count": 11,
   "metadata": {},
   "outputs": [
    {
     "name": "stdout",
     "output_type": "stream",
     "text": [
      "fiore\n"
     ]
    }
   ],
   "source": [
    "name_1 = input(\"nombre: \")\n",
    "print(name_1)"
   ]
  },
  {
   "cell_type": "code",
   "execution_count": 32,
   "metadata": {},
   "outputs": [],
   "source": [
    "# Listas\n",
    "# int\n",
    "# float\n",
    "# strings\n",
    "\n",
    "list_1 = [\"jose\", \"maria\", \"juan\", \"ruperto\", 12, 13, 14, 15, 16, 20.8, 55.5]"
   ]
  },
  {
   "cell_type": "code",
   "execution_count": 33,
   "metadata": {},
   "outputs": [
    {
     "data": {
      "text/plain": [
       "['jose', 'maria', 'juan', 'ruperto', 12, 13, 14, 15, 16, 20.8, 55.5]"
      ]
     },
     "execution_count": 33,
     "metadata": {},
     "output_type": "execute_result"
    }
   ],
   "source": [
    "list_1"
   ]
  },
  {
   "cell_type": "code",
   "execution_count": 17,
   "metadata": {},
   "outputs": [
    {
     "data": {
      "text/plain": [
       "'jose'"
      ]
     },
     "execution_count": 17,
     "metadata": {},
     "output_type": "execute_result"
    }
   ],
   "source": [
    "list_1[0]"
   ]
  },
  {
   "cell_type": "code",
   "execution_count": 18,
   "metadata": {},
   "outputs": [
    {
     "data": {
      "text/plain": [
       "12"
      ]
     },
     "execution_count": 18,
     "metadata": {},
     "output_type": "execute_result"
    }
   ],
   "source": [
    "list_1[4]"
   ]
  },
  {
   "cell_type": "code",
   "execution_count": 20,
   "metadata": {},
   "outputs": [
    {
     "data": {
      "text/plain": [
       "16"
      ]
     },
     "execution_count": 20,
     "metadata": {},
     "output_type": "execute_result"
    }
   ],
   "source": [
    "list_1[-1]"
   ]
  },
  {
   "cell_type": "code",
   "execution_count": 46,
   "metadata": {},
   "outputs": [
    {
     "data": {
      "text/plain": [
       "['jose', 'maria', 'juan']"
      ]
     },
     "execution_count": 46,
     "metadata": {},
     "output_type": "execute_result"
    }
   ],
   "source": [
    "list_1[0:3]"
   ]
  },
  {
   "cell_type": "code",
   "execution_count": 47,
   "metadata": {},
   "outputs": [],
   "source": [
    "name_list = list_1[0:4]"
   ]
  },
  {
   "cell_type": "code",
   "execution_count": 23,
   "metadata": {},
   "outputs": [
    {
     "data": {
      "text/plain": [
       "['jose', 'maria', 'juan', 'ruperto']"
      ]
     },
     "execution_count": 23,
     "metadata": {},
     "output_type": "execute_result"
    }
   ],
   "source": [
    "name_list"
   ]
  },
  {
   "cell_type": "code",
   "execution_count": 30,
   "metadata": {},
   "outputs": [],
   "source": [
    "integers_list = list_1[4:]"
   ]
  },
  {
   "cell_type": "code",
   "execution_count": 31,
   "metadata": {},
   "outputs": [
    {
     "data": {
      "text/plain": [
       "[12, 13, 14, 15, 16]"
      ]
     },
     "execution_count": 31,
     "metadata": {},
     "output_type": "execute_result"
    }
   ],
   "source": [
    "integers_list"
   ]
  },
  {
   "cell_type": "code",
   "execution_count": 34,
   "metadata": {},
   "outputs": [],
   "source": [
    "float_list = list_1[9:]"
   ]
  },
  {
   "cell_type": "code",
   "execution_count": 35,
   "metadata": {},
   "outputs": [
    {
     "data": {
      "text/plain": [
       "[20.8, 55.5]"
      ]
     },
     "execution_count": 35,
     "metadata": {},
     "output_type": "execute_result"
    }
   ],
   "source": [
    "float_list"
   ]
  },
  {
   "cell_type": "code",
   "execution_count": 36,
   "metadata": {},
   "outputs": [],
   "source": [
    "# clear: borra los elementos de la lista\n",
    "integers_list.clear()"
   ]
  },
  {
   "cell_type": "code",
   "execution_count": 37,
   "metadata": {},
   "outputs": [
    {
     "data": {
      "text/plain": [
       "[]"
      ]
     },
     "execution_count": 37,
     "metadata": {},
     "output_type": "execute_result"
    }
   ],
   "source": [
    "integers_list"
   ]
  },
  {
   "cell_type": "code",
   "execution_count": 51,
   "metadata": {},
   "outputs": [],
   "source": [
    "# copy: copia la lista\n",
    "name_list_2 = name_list.copy()"
   ]
  },
  {
   "cell_type": "code",
   "execution_count": 52,
   "metadata": {},
   "outputs": [
    {
     "name": "stdout",
     "output_type": "stream",
     "text": [
      "['jose', 'maria', 'juan', 'ruperto']\n"
     ]
    }
   ],
   "source": [
    "print(name_list_2)"
   ]
  },
  {
   "cell_type": "code",
   "execution_count": null,
   "metadata": {},
   "outputs": [],
   "source": [
    "# lent: permite contare los nombres de la lista\n",
    "#apened: agrea elementos a la lista\n"
   ]
  },
  {
   "cell_type": "markdown",
   "metadata": {},
   "source": [
    "### condicionales"
   ]
  },
  {
   "cell_type": "code",
   "execution_count": null,
   "metadata": {},
   "outputs": [],
   "source": [
    "# sintansix de un condicional simple\n",
    "# if condicion:\n",
    "    #operacion\n",
    "# condicion\n",
    "# mayor que >\n",
    "# menor que <\n",
    "# mayor igual >=\n",
    "# menor igual <=\n",
    "# diferente !=\n",
    "# igual? =="
   ]
  },
  {
   "cell_type": "code",
   "execution_count": 56,
   "metadata": {},
   "outputs": [
    {
     "name": "stdout",
     "output_type": "stream",
     "text": [
      "hoy no es lunes\n"
     ]
    }
   ],
   "source": [
    "day= input('dia de la semana:')\n",
    "if day == ('lunes'):\n",
    "    print('hoy lunes, voy a trabajar')\n",
    "else:\n",
    "    print('hoy no es lunes')"
   ]
  },
  {
   "cell_type": "code",
   "execution_count": 2,
   "metadata": {},
   "outputs": [
    {
     "name": "stdout",
     "output_type": "stream",
     "text": [
      "voy al cine 2x10\n"
     ]
    }
   ],
   "source": [
    "# operadores logicos\n",
    "# and y or\n",
    "#\n",
    "day= input('dia de la semana:')\n",
    "momento_day = input('ingrese momento del dia:')\n",
    "\n",
    "if (day =='lunes') and (momento_day == 'noche'):\n",
    "    print('voy al cine 2x10')\n",
    "\n",
    "else:\n",
    "    print('hoy no es lunes')"
   ]
  },
  {
   "cell_type": "code",
   "execution_count": 1,
   "metadata": {},
   "outputs": [
    {
     "name": "stdout",
     "output_type": "stream",
     "text": [
      "no es lues\n"
     ]
    }
   ],
   "source": [
    "# operadores logicos\n",
    "# and y or\n",
    "#\n",
    "day= input('dia de la semana:')\n",
    "momento_day = input('ingrese momento del dia:')\n",
    "\n",
    "if (day =='lunes') or (momento_day == 'noche'):\n",
    "    print('veo netflix')\n",
    "\n",
    "else:\n",
    "    print('no es lues')"
   ]
  }
 ],
 "metadata": {
  "kernelspec": {
   "display_name": "Python 3",
   "language": "python",
   "name": "python3"
  },
  "language_info": {
   "codemirror_mode": {
    "name": "ipython",
    "version": 3
   },
   "file_extension": ".py",
   "mimetype": "text/x-python",
   "name": "python",
   "nbconvert_exporter": "python",
   "pygments_lexer": "ipython3",
   "version": "3.12.4"
  }
 },
 "nbformat": 4,
 "nbformat_minor": 2
}
