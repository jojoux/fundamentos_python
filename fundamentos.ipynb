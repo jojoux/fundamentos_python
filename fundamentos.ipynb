{
 "cells": [
  {
   "cell_type": "code",
   "execution_count": 1,
   "metadata": {},
   "outputs": [
    {
     "name": "stdout",
     "output_type": "stream",
     "text": [
      "hola\n"
     ]
    }
   ],
   "source": [
    "print(\"hola\")"
   ]
  },
  {
   "cell_type": "code",
   "execution_count": 3,
   "metadata": {},
   "outputs": [],
   "source": [
    "name=\"fiorella\""
   ]
  },
  {
   "cell_type": "code",
   "execution_count": 4,
   "metadata": {},
   "outputs": [
    {
     "data": {
      "text/plain": [
       "'fiorella'"
      ]
     },
     "execution_count": 4,
     "metadata": {},
     "output_type": "execute_result"
    }
   ],
   "source": [
    "name"
   ]
  },
  {
   "cell_type": "code",
   "execution_count": 1,
   "metadata": {},
   "outputs": [],
   "source": [
    "last_name= \"valentina\""
   ]
  },
  {
   "cell_type": "code",
   "execution_count": 2,
   "metadata": {},
   "outputs": [
    {
     "data": {
      "text/plain": [
       "'valentina'"
      ]
     },
     "execution_count": 2,
     "metadata": {},
     "output_type": "execute_result"
    }
   ],
   "source": [
    "last_name"
   ]
  },
  {
   "cell_type": "code",
   "execution_count": 5,
   "metadata": {},
   "outputs": [],
   "source": [
    "# asignacion de variables\n",
    "number_1 = 22\n",
    "number_2 = 23\n",
    "\n",
    "# operaciones\n",
    "sum = number_1 + number_2\n",
    "substract = number_1 - number_2\n",
    "multi = number_1 * number_2\n",
    "div = number_1 / number_2\n"
   ]
  },
  {
   "cell_type": "code",
   "execution_count": 6,
   "metadata": {},
   "outputs": [
    {
     "name": "stdout",
     "output_type": "stream",
     "text": [
      "45\n",
      "-1\n",
      "506\n",
      "0.9565217391304348\n"
     ]
    }
   ],
   "source": [
    "# resultados\n",
    "print(sum)\n",
    "print(substract)\n",
    "print(multi)\n",
    "print(div)"
   ]
  },
  {
   "cell_type": "code",
   "execution_count": 8,
   "metadata": {},
   "outputs": [
    {
     "name": "stdout",
     "output_type": "stream",
     "text": [
      "resultado de la suma es: 45\n",
      "resultado de la resta es: -1\n",
      "resultado de la resta es: 506\n",
      "resultado de la resta es: 0.9565217391304348\n"
     ]
    }
   ],
   "source": [
    "# resultados\n",
    "print(\"resultado de la suma es:\", sum)\n",
    "print(f\"resultado de la resta es: {substract}\")\n",
    "print(f\"resultado de la resta es: {multi}\")\n",
    "print(f\"resultado de la resta es: {div}\")"
   ]
  },
  {
   "cell_type": "code",
   "execution_count": 9,
   "metadata": {},
   "outputs": [
    {
     "name": "stdout",
     "output_type": "stream",
     "text": [
      "<class 'str'>\n",
      "<class 'int'>\n",
      "<class 'float'>\n"
     ]
    }
   ],
   "source": [
    "# tipos de datoos en phyton\n",
    "print(type(last_name))\n",
    "print(type(number_1))\n",
    "print(type(div))"
   ]
  },
  {
   "cell_type": "code",
   "execution_count": 14,
   "metadata": {},
   "outputs": [
    {
     "name": "stdout",
     "output_type": "stream",
     "text": [
      "resultado de la suma es: 21.0\n",
      "resultado de la resta es: -1.0\n",
      "resultado de la resta es: 110.0\n",
      "resultado de la resta es: 0.9090909090909091\n"
     ]
    }
   ],
   "source": [
    "# ingreso de datos por teclado\n",
    "# asignacion de variables\n",
    "number_1 = input(\"ingrese number_1: \")\n",
    "number_1= float(number_1)\n",
    "\n",
    "number_2 = input(\"ingrese number_2: \")\n",
    "number_2 = float(number_2)\n",
    "\n",
    "# operaciones\n",
    "sum = number_1 + number_2\n",
    "substract = number_1 - number_2\n",
    "multi = number_1 * number_2\n",
    "div = number_1 / number_2\n",
    "\n",
    "# resultados\n",
    "print(\"resultado de la suma es:\", sum)\n",
    "print(f\"resultado de la resta es: {substract}\")\n",
    "print(f\"resultado de la resta es: {multi}\")\n",
    "print(f\"resultado de la resta es: {div}\")"
   ]
  },
  {
   "cell_type": "code",
   "execution_count": 11,
   "metadata": {},
   "outputs": [
    {
     "name": "stdout",
     "output_type": "stream",
     "text": [
      "fiore\n"
     ]
    }
   ],
   "source": [
    "name_1 = input(\"nombre: \")\n",
    "print(name_1)"
   ]
  },
  {
   "cell_type": "code",
   "execution_count": null,
   "metadata": {},
   "outputs": [],
   "source": []
  }
 ],
 "metadata": {
  "kernelspec": {
   "display_name": "Python 3",
   "language": "python",
   "name": "python3"
  },
  "language_info": {
   "codemirror_mode": {
    "name": "ipython",
    "version": 3
   },
   "file_extension": ".py",
   "mimetype": "text/x-python",
   "name": "python",
   "nbconvert_exporter": "python",
   "pygments_lexer": "ipython3",
   "version": "3.12.4"
  }
 },
 "nbformat": 4,
 "nbformat_minor": 2
}
